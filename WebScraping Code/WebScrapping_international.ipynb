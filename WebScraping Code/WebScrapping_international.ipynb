{
 "cells": [
  {
   "cell_type": "code",
   "execution_count": null,
   "id": "343b94fc-3951-48d3-b4c5-26b23a1ad99e",
   "metadata": {},
   "outputs": [],
   "source": [
    "from urllib.request import urlopen\n",
    "import csv\n",
    "\n",
    "def snip(src, sub1, sub2):\n",
    "    \"\"\" Given a src string, snip the text located between strings sub1 and sub2\"\"\"\n",
    "    idx_start = src.find(sub1) + len(sub1)\n",
    "    idx_end = src.find(sub2, idx_start)\n",
    "    \n",
    "    return src[idx_start:idx_end].strip()\n",
    "\n",
    "with open('scholarships_data.csv', 'w', newline = '') as csv_file:\n",
    "    csvwriter = csv.writer(csv_file)\n",
    "\n",
    "    header = ['Scholarship Name', 'Deadline', 'Amount', 'Description', 'Location', 'Years', 'Link']\n",
    "    csvwriter.writerow(header)\n",
    "\n",
    "    \n",
    "    for page_num in range(1, 770):\n",
    "        url = 'http://www.collegescholarships.org/financial-aid/?page=' + str(page_num)\n",
    "        page = urlopen(url)\n",
    "        html = page.read().decode()\n",
    "        scholarships_class = snip(html,'<div class=\"scholarship-list\">', '<ul class=\"pagination\">')\n",
    "\n",
    "        scholarships_list = scholarships_class.split('<div class=\"row\">')\n",
    "        scholarships_list.pop(0)\n",
    "\n",
    "        for scholarship in scholarships_list:\n",
    "            amount = snip(scholarship, '<strong>$', '</strong>')\n",
    "            link = snip(scholarship, '<h4 class=\"text-uppercase\"><a href=\"', '\"')\n",
    "            name = snip(scholarship, '<h4 class=\"text-uppercase\"><a href=\"' +\n",
    "                        link + '\">', '</a>')        \n",
    "            deadline = snip(scholarship, '</span><br />\\n                <strong>', '</strong>')        \n",
    "            description = snip(scholarship, '</p>\\n        <p>', '</p>\\n')          \n",
    "            location = snip(scholarship, '<i class=\"fa fa-li fa-map-marker\"></i>\\n                    ' +\n",
    "                            '<span class=\"trim\" data-length=\"120\">\\n', '\\n')          \n",
    "            years = snip(scholarship, '<i class=\"fa fa-li fa-graduation-cap\"></i>\\n                    ' +\n",
    "                         '<span class=\"trim\" data-length=\"120\">\\n                                            ',\n",
    "                         '\\n                                        </span>\\n                </li>\\n' +\n",
    "                         '                <li>\\n                    <i class=\"fa fa-li fa-book\"></i>\\n')\n",
    "            \n",
    "            csvwriter.writerow([name, deadline, amount, description, location, years, link])\n",
    "            "
   ]
  },
  {
   "cell_type": "code",
   "execution_count": null,
   "id": "c8de1d38-8e2e-4a5c-90c9-f36b16c02bb4",
   "metadata": {},
   "outputs": [],
   "source": []
  }
 ],
 "metadata": {
  "kernelspec": {
   "display_name": "Python 3 (ipykernel)",
   "language": "python",
   "name": "python3"
  },
  "language_info": {
   "codemirror_mode": {
    "name": "ipython",
    "version": 3
   },
   "file_extension": ".py",
   "mimetype": "text/x-python",
   "name": "python",
   "nbconvert_exporter": "python",
   "pygments_lexer": "ipython3",
   "version": "3.12.7"
  }
 },
 "nbformat": 4,
 "nbformat_minor": 5
}
