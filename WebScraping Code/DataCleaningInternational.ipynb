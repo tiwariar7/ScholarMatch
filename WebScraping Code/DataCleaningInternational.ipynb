{
 "cells": [
  {
   "cell_type": "code",
   "execution_count": 2,
   "id": "93dc7f00-f296-4e67-9986-56b68f42912e",
   "metadata": {},
   "outputs": [
    {
     "name": "stdout",
     "output_type": "stream",
     "text": [
      "Missing Values Before Processing:\n",
      " Scholarship Name       0\n",
      "Deadline            1544\n",
      "Amount                 0\n",
      "Description          473\n",
      "Location               0\n",
      "Years                  0\n",
      "Link                   0\n",
      "dtype: int64\n",
      "\n",
      "Missing Values After Processing:\n",
      " Scholarship Name       0\n",
      "Deadline               0\n",
      "Amount              8872\n",
      "Description            0\n",
      "Location               0\n",
      "Years                  0\n",
      "Link                   0\n",
      "dtype: int64\n"
     ]
    },
    {
     "name": "stderr",
     "output_type": "stream",
     "text": [
      "C:\\Users\\arman\\AppData\\Local\\Temp\\ipykernel_13320\\997131811.py:11: UserWarning: Could not infer format, so each element will be parsed individually, falling back to `dateutil`. To ensure parsing is consistent and as-expected, please specify a format.\n",
      "  df[\"Deadline\"] = pd.to_datetime(df[\"Deadline\"], errors=\"coerce\")\n",
      "C:\\Users\\arman\\AppData\\Local\\Temp\\ipykernel_13320\\997131811.py:20: FutureWarning: A value is trying to be set on a copy of a DataFrame or Series through chained assignment using an inplace method.\n",
      "The behavior will change in pandas 3.0. This inplace method will never work because the intermediate object on which we are setting values always behaves as a copy.\n",
      "\n",
      "For example, when doing 'df[col].method(value, inplace=True)', try using 'df.method({col: value}, inplace=True)' or df[col] = df[col].method(value) instead, to perform the operation inplace on the original object.\n",
      "\n",
      "\n",
      "  df[\"Description\"].fillna(\"Description not available\", inplace=True)\n",
      "C:\\Users\\arman\\AppData\\Local\\Temp\\ipykernel_13320\\997131811.py:21: FutureWarning: A value is trying to be set on a copy of a DataFrame or Series through chained assignment using an inplace method.\n",
      "The behavior will change in pandas 3.0. This inplace method will never work because the intermediate object on which we are setting values always behaves as a copy.\n",
      "\n",
      "For example, when doing 'df[col].method(value, inplace=True)', try using 'df.method({col: value}, inplace=True)' or df[col] = df[col].method(value) instead, to perform the operation inplace on the original object.\n",
      "\n",
      "\n",
      "  df[\"Deadline\"].fillna(\"Unknown deadline\", inplace=True)  # Keep as a string for clarity\n",
      "C:\\Users\\arman\\AppData\\Local\\Temp\\ipykernel_13320\\997131811.py:21: FutureWarning: Setting an item of incompatible dtype is deprecated and will raise an error in a future version of pandas. Value 'Unknown deadline' has dtype incompatible with datetime64[ns], please explicitly cast to a compatible dtype first.\n",
      "  df[\"Deadline\"].fillna(\"Unknown deadline\", inplace=True)  # Keep as a string for clarity\n"
     ]
    }
   ],
   "source": [
    "import pandas as pd\n",
    "import numpy as np\n",
    "\n",
    "df = pd.read_csv(\"international_scholarships.csv\")\n",
    "print(\"Missing Values Before Processing:\\n\", df.isnull().sum())\n",
    "df[\"Deadline\"] = pd.to_datetime(df[\"Deadline\"], errors=\"coerce\")\n",
    "\n",
    "df[\"Amount\"] = pd.to_numeric(df[\"Amount\"], errors=\"coerce\")\n",
    "\n",
    "df[\"Years\"] = df[\"Years\"].apply(lambda x: x.split(\", \") if isinstance(x, str) else [])\n",
    "\n",
    "df[\"Description\"].fillna(\"Description not available\", inplace=True)\n",
    "df[\"Deadline\"].fillna(\"Unknown deadline\", inplace=True) \n",
    "\n",
    "print(\"\\nMissing Values After Processing:\\n\", df.isnull().sum())\n",
    "\n"
   ]
  },
  {
   "cell_type": "code",
   "execution_count": 3,
   "id": "0055cd02-f1a5-4702-9801-b73b07fa4bc2",
   "metadata": {},
   "outputs": [
    {
     "data": {
      "text/plain": [
       "True"
      ]
     },
     "execution_count": 3,
     "metadata": {},
     "output_type": "execute_result"
    }
   ],
   "source": [
    "df.isnull().values.any()\n"
   ]
  },
  {
   "cell_type": "code",
   "execution_count": 4,
   "id": "43bddf81-2a7f-4529-8843-7a8d95e18460",
   "metadata": {},
   "outputs": [
    {
     "data": {
      "text/plain": [
       "Scholarship Name       0\n",
       "Deadline               0\n",
       "Amount              8872\n",
       "Description            0\n",
       "Location               0\n",
       "Years                  0\n",
       "Link                   0\n",
       "dtype: int64"
      ]
     },
     "execution_count": 4,
     "metadata": {},
     "output_type": "execute_result"
    }
   ],
   "source": [
    "df.isnull().sum()\n"
   ]
  },
  {
   "cell_type": "code",
   "execution_count": 6,
   "id": "720a3363-f601-46e7-9068-8a01cd0200db",
   "metadata": {},
   "outputs": [],
   "source": [
    "df['Amount'] = df['Amount'].astype('object').fillna(\"Unknown\")"
   ]
  },
  {
   "cell_type": "code",
   "execution_count": 7,
   "id": "1381c125-ed82-409d-b29c-63fb64dccdad",
   "metadata": {},
   "outputs": [
    {
     "data": {
      "text/html": [
       "<div>\n",
       "<style scoped>\n",
       "    .dataframe tbody tr th:only-of-type {\n",
       "        vertical-align: middle;\n",
       "    }\n",
       "\n",
       "    .dataframe tbody tr th {\n",
       "        vertical-align: top;\n",
       "    }\n",
       "\n",
       "    .dataframe thead th {\n",
       "        text-align: right;\n",
       "    }\n",
       "</style>\n",
       "<table border=\"1\" class=\"dataframe\">\n",
       "  <thead>\n",
       "    <tr style=\"text-align: right;\">\n",
       "      <th></th>\n",
       "      <th>Scholarship Name</th>\n",
       "      <th>Deadline</th>\n",
       "      <th>Amount</th>\n",
       "      <th>Description</th>\n",
       "      <th>Location</th>\n",
       "      <th>Years</th>\n",
       "      <th>Link</th>\n",
       "    </tr>\n",
       "  </thead>\n",
       "  <tbody>\n",
       "    <tr>\n",
       "      <th>0</th>\n",
       "      <td>Order Sons of Italy in America National Leader...</td>\n",
       "      <td>Unknown deadline</td>\n",
       "      <td>Unknown</td>\n",
       "      <td>Applicant must be of Italian heritage and be a...</td>\n",
       "      <td>No Geographic Restrictions</td>\n",
       "      <td>[College junior, College freshman, College sen...</td>\n",
       "      <td>https://www.collegescholarships.org/financial-...</td>\n",
       "    </tr>\n",
       "    <tr>\n",
       "      <th>1</th>\n",
       "      <td>Entrance Scholarship</td>\n",
       "      <td>Unknown deadline</td>\n",
       "      <td>Unknown</td>\n",
       "      <td>Applicant must be an incoming first-year stude...</td>\n",
       "      <td>No Geographic Restrictions</td>\n",
       "      <td>[College freshman]</td>\n",
       "      <td>https://www.collegescholarships.org/financial-...</td>\n",
       "    </tr>\n",
       "    <tr>\n",
       "      <th>2</th>\n",
       "      <td>Agnes Jones Jackson Scholarship</td>\n",
       "      <td>Unknown deadline</td>\n",
       "      <td>Unknown</td>\n",
       "      <td>Applicant must be current member of the NAACP ...</td>\n",
       "      <td>No Geographic Restrictions</td>\n",
       "      <td>[College freshman, Master&amp;#039;s-level study, ...</td>\n",
       "      <td>https://www.collegescholarships.org/financial-...</td>\n",
       "    </tr>\n",
       "    <tr>\n",
       "      <th>3</th>\n",
       "      <td>Fellowship in Jewish Studies</td>\n",
       "      <td>Unknown deadline</td>\n",
       "      <td>Unknown</td>\n",
       "      <td>Applicant must have an interest in Jewish stud...</td>\n",
       "      <td>No Geographic Restrictions</td>\n",
       "      <td>[High school senior]</td>\n",
       "      <td>https://www.collegescholarships.org/financial-...</td>\n",
       "    </tr>\n",
       "    <tr>\n",
       "      <th>4</th>\n",
       "      <td>Doctoral Scholarship</td>\n",
       "      <td>Unknown deadline</td>\n",
       "      <td>Unknown</td>\n",
       "      <td>Applicant must be a doctoral student specializ...</td>\n",
       "      <td>No Geographic Restrictions</td>\n",
       "      <td>[Doctoral-level study]</td>\n",
       "      <td>https://www.collegescholarships.org/financial-...</td>\n",
       "    </tr>\n",
       "  </tbody>\n",
       "</table>\n",
       "</div>"
      ],
      "text/plain": [
       "                                    Scholarship Name          Deadline  \\\n",
       "0  Order Sons of Italy in America National Leader...  Unknown deadline   \n",
       "1                               Entrance Scholarship  Unknown deadline   \n",
       "2                    Agnes Jones Jackson Scholarship  Unknown deadline   \n",
       "3                       Fellowship in Jewish Studies  Unknown deadline   \n",
       "4                               Doctoral Scholarship  Unknown deadline   \n",
       "\n",
       "    Amount                                        Description  \\\n",
       "0  Unknown  Applicant must be of Italian heritage and be a...   \n",
       "1  Unknown  Applicant must be an incoming first-year stude...   \n",
       "2  Unknown  Applicant must be current member of the NAACP ...   \n",
       "3  Unknown  Applicant must have an interest in Jewish stud...   \n",
       "4  Unknown  Applicant must be a doctoral student specializ...   \n",
       "\n",
       "                     Location  \\\n",
       "0  No Geographic Restrictions   \n",
       "1  No Geographic Restrictions   \n",
       "2  No Geographic Restrictions   \n",
       "3  No Geographic Restrictions   \n",
       "4  No Geographic Restrictions   \n",
       "\n",
       "                                               Years  \\\n",
       "0  [College junior, College freshman, College sen...   \n",
       "1                                 [College freshman]   \n",
       "2  [College freshman, Master&#039;s-level study, ...   \n",
       "3                               [High school senior]   \n",
       "4                             [Doctoral-level study]   \n",
       "\n",
       "                                                Link  \n",
       "0  https://www.collegescholarships.org/financial-...  \n",
       "1  https://www.collegescholarships.org/financial-...  \n",
       "2  https://www.collegescholarships.org/financial-...  \n",
       "3  https://www.collegescholarships.org/financial-...  \n",
       "4  https://www.collegescholarships.org/financial-...  "
      ]
     },
     "execution_count": 7,
     "metadata": {},
     "output_type": "execute_result"
    }
   ],
   "source": [
    "df.head()"
   ]
  },
  {
   "cell_type": "code",
   "execution_count": 8,
   "id": "cf8204f4-fbda-4ca8-82cc-7bbcd90c899a",
   "metadata": {},
   "outputs": [],
   "source": [
    "df.to_csv(\"InterNational_Scholarships.csv\", index=False)"
   ]
  },
  {
   "cell_type": "code",
   "execution_count": null,
   "id": "d881e094-48b6-4215-a6da-659760a23db0",
   "metadata": {},
   "outputs": [],
   "source": []
  }
 ],
 "metadata": {
  "kernelspec": {
   "display_name": "Python 3 (ipykernel)",
   "language": "python",
   "name": "python3"
  },
  "language_info": {
   "codemirror_mode": {
    "name": "ipython",
    "version": 3
   },
   "file_extension": ".py",
   "mimetype": "text/x-python",
   "name": "python",
   "nbconvert_exporter": "python",
   "pygments_lexer": "ipython3",
   "version": "3.12.7"
  }
 },
 "nbformat": 4,
 "nbformat_minor": 5
}
